{
 "cells": [
  {
   "cell_type": "code",
   "execution_count": 1,
   "metadata": {},
   "outputs": [],
   "source": [
    "import torch\n",
    "\n",
    "# To resolve memory leaks giving received 0 items from anecdata\n",
    "# Reference link https://github.com/pytorch/pytorch/issues/973\n",
    "torch.multiprocessing.set_sharing_strategy(\"file_system\")\n",
    "from torch.utils.data import DataLoader\n",
    "import sys\n",
    "# sys.path.append(\"/fsx-repligen/piyusht1/projects/uCO3D/uco3d/\")\n",
    "sys.path.append(\"../../uco3d/\")\n",
    "from uco3d.uco3d_dataset import UCO3DDataset, UCO3DFrameDataBuilder\n",
    "from uco3d.dataset_utils.scene_batch_sampler import (\n",
    "    SceneBatchSampler,\n",
    ")\n",
    "\n",
    "\n",
    "from pytorch3d.renderer.cameras import PerspectiveCameras\n",
    "\n",
    "\n",
    "\n"
   ]
  },
  {
   "cell_type": "markdown",
   "metadata": {},
   "source": [
    "A few examples of Arguments which can be given to the dataset constructor. Replace DATASET_ROOT with the folder where the dataset videos/point_clouds/cameras exist. "
   ]
  },
  {
   "cell_type": "code",
   "execution_count": 2,
   "metadata": {},
   "outputs": [],
   "source": [
    "DATASET_ROOT = \"/fsx-repligen/shared/datasets/uCO3D/batch_reconstruction/dataset_export\"\n",
    "# METADATA_FILE = os.path.join(DATASET_ROOT, \"metadata_1766.sqlite\")\n",
    "METADATA_FILE = \"/fsx-repligen/shared/datasets/uCO3D/batch_reconstruction/dataset_export/metadata_all_updated.sqlite\"\n",
    "\n",
    "NO_BLOBS_KWARGS = {\n",
    "    \"dataset_root\": \"\",\n",
    "    \"load_images\": False,\n",
    "    \"load_depths\": False,\n",
    "    \"load_masks\": False,\n",
    "    \"load_depth_masks\": False,\n",
    "    \"box_crop\": False,\n",
    "    \"image_height\": 800,\n",
    "}\n",
    "SCENE_BATCH_SAMPLER_KWARGS = {\n",
    "    \"dataset_root\": \"\",\n",
    "    \"image_height\": 800,\n",
    "    \"image_width\": 800,\n",
    "    \"load_depths\": False,\n",
    "    # \"load_frames_from_videos\": False,\n",
    "}\n"
   ]
  },
  {
   "cell_type": "markdown",
   "metadata": {},
   "source": [
    "Can create frame_data_builder explicitly and pass to it dataset contructor or use frame_data_builder_args and pass it to dataset constructor. frame_data_builder_args is a cleaner way to do so, and is what is used here\n"
   ]
  },
  {
   "cell_type": "code",
   "execution_count": 3,
   "metadata": {},
   "outputs": [],
   "source": [
    "# frame_data_builder_args = NO_BLOBS_KWARGS\n",
    "frame_data_builder_args = SCENE_BATCH_SAMPLER_KWARGS\n",
    "\n",
    "frame_data_builder = UCO3DFrameDataBuilder(\n",
    "    # dataset_root=\"/fsx-repligen/piyusht1/projects/uCO3D_SfM/export_reconstruction_2000/dataset_export\",\n",
    "    dataset_root=DATASET_ROOT,\n",
    "    load_frames_from_videos=True,\n",
    "    load_depths=True,\n",
    "    image_height = 800,\n",
    "    load_point_clouds=True,\n",
    ")\n",
    "\n",
    "dataset = UCO3DDataset(\n",
    "    # dataset_root=\"/fsx-repligen/piyusht1/projects/uCO3D_SfM/export_reconstruction_2000/dataset_export\",\n",
    "    dataset_root=\"/fsx-repligen/shared/datasets/uCO3D/batch_reconstruction/dataset_export\",\n",
    "    sqlite_metadata_file=METADATA_FILE,\n",
    "    remove_empty_masks=False,   \n",
    "    frame_data_builder_args = frame_data_builder_args,\n",
    ")"
   ]
  },
  {
   "cell_type": "markdown",
   "metadata": {},
   "source": [
    "For sampling, can create a pytorch DataLoader object. Following is an example of Dataloading with sampler as SceneBatchSampler, which selects certain number of instances from a sequence for a batch (In this code, number of samples for a batch is set to 48, and instances per sequence are set to 8)"
   ]
  },
  {
   "cell_type": "code",
   "execution_count": 4,
   "metadata": {},
   "outputs": [
    {
     "name": "stdout",
     "output_type": "stream",
     "text": [
      "Batch Number 0\n"
     ]
    }
   ],
   "source": [
    "images_per_seq_options = [8]\n",
    "scene_batch_sampler = SceneBatchSampler(\n",
    "    dataset=dataset,\n",
    "    batch_size=48,\n",
    "    num_batches=1,\n",
    "    images_per_seq_options=images_per_seq_options,\n",
    ")\n",
    "\n",
    "def my_collate_fn(batch):\n",
    "    return [batch]\n",
    "\n",
    "num_workers = 0\n",
    "dataloader = DataLoader(\n",
    "    dataset,\n",
    "    batch_sampler=scene_batch_sampler,\n",
    "    num_workers=num_workers,\n",
    "    collate_fn=dataset.frame_data_type.collate,\n",
    ")\n",
    "\n",
    "## Example to get the batches\n",
    "for i,data in enumerate(dataloader):\n",
    "    print(f\"Batch Number {i}\")"
   ]
  },
  {
   "cell_type": "code",
   "execution_count": 24,
   "metadata": {},
   "outputs": [
    {
     "name": "stdout",
     "output_type": "stream",
     "text": [
      "Number of sequences: 152060\n",
      "Sequence name: 23984-7278-35526\n",
      "Number of frames in the sequence: 200\n"
     ]
    }
   ],
   "source": [
    "sequences = dataset.sequence_names()\n",
    "seq = sequences[1343]\n",
    "print(\"Number of sequences:\", len(sequences))\n",
    "print(\"Sequence name:\", seq)\n",
    "\n",
    "# sequence_frames_in_order returns an iterator over (timestamp, frame_id, global_index)\n",
    "# frame_id is unique within a sequence; global_index is unique within the dataset\n",
    "# to get length, we convert it to a list\n",
    "seq_frame_ids = list(dataset.sequence_frames_in_order(seq))\n",
    "print(\"Number of frames in the sequence:\", len(seq_frame_ids))\n",
    "ts, frame_id, idx = seq_frame_ids[42]"
   ]
  },
  {
   "cell_type": "markdown",
   "metadata": {},
   "source": [
    "We provide two equvalent ways of indexing the dataset: by global ordinal index, and by (sequence, frame_id) pairs. dataset[idx] returns a Uco3dFrameData dataclass object that contains metadata fields such as frame_timestamp and camera pose, and tensors like image_rgb and fg_probability. dataset.meta[] accessor does not load any blobs such as image and mask – so that those fields stay None, but provides camera poses."
   ]
  },
  {
   "cell_type": "code",
   "execution_count": 25,
   "metadata": {},
   "outputs": [],
   "source": [
    "assert dataset.meta[idx].sequence_name == dataset.meta[seq, frame_id].sequence_name\n",
    "assert dataset.meta[idx].frame_number == dataset.meta[seq, frame_id].frame_number\n",
    "assert dataset.meta[seq, frame_id].image_rgb is None\n",
    "\n",
    "# Use dataset[] to load the full frame data\n",
    "frame = dataset[seq, frame_id]\n",
    "assert frame.sequence_name == dataset.meta[seq, frame_id].sequence_name\n",
    "assert frame.frame_number == dataset.meta[seq, frame_id].frame_number\n",
    "assert frame.image_rgb is not None"
   ]
  },
  {
   "cell_type": "code",
   "execution_count": 26,
   "metadata": {},
   "outputs": [
    {
     "name": "stdout",
     "output_type": "stream",
     "text": [
      "Showing sequence 23984-7278-35526\n"
     ]
    },
    {
     "data": {
      "image/png": "[encoded data removed]",
      "text/plain": [
       "<Figure size 1600x1200 with 20 Axes>"
      ]
     },
     "metadata": {},
     "output_type": "display_data"
    }
   ],
   "source": [
    "from pytorch3d.vis.plotly_vis import plot_scene\n",
    "from IPython.display import display\n",
    "from matplotlib import pyplot as plt\n",
    "\n",
    "\n",
    "print(\"Showing sequence\", seq)\n",
    "n_vis_frames = 20\n",
    "n_image_cols = 5\n",
    "ax = plt.figure(figsize=(16, 12)).subplots(-(-n_vis_frames // n_image_cols), n_image_cols).reshape(-1)\n",
    "for slot in ax:\n",
    "    slot.get_xaxis().set_visible(False)\n",
    "    slot.get_yaxis().set_visible(False)\n",
    "\n",
    "interval = len(seq_frame_ids) // n_vis_frames\n",
    "for slot, (_, frame_id, _) in zip(ax, seq_frame_ids[::interval]):\n",
    "    frame = dataset[seq, frame_id]  # loading and cropping happens on this call\n",
    "    masked_im = frame.image_rgb * frame.fg_probability\n",
    "    slot.imshow(masked_im.permute(1, 2, 0).data.numpy())\n",
    "    slot.set_title(f\"ts={frame.frame_timestamp:.2f} sec\")\n",
    "\n",
    "#Visualize depths\n",
    "visualize_depths = False\n",
    "if visualize_depths:\n",
    "    ax = plt.figure(figsize=(16, 12)).subplots(-(-n_vis_frames // n_image_cols), n_image_cols).reshape(-1)\n",
    "    for slot in ax:\n",
    "        slot.get_xaxis().set_visible(False)\n",
    "        slot.get_yaxis().set_visible(False)\n",
    "\n",
    "    interval = len(seq_frame_ids) // n_vis_frames\n",
    "    for slot, (_, frame_id, _) in zip(ax, seq_frame_ids[::interval]):\n",
    "        frame = dataset[seq, frame_id]  # loading and cropping happens on this call\n",
    "        masked_im = frame.depth_map * frame.fg_probability\n",
    "        slot.imshow(masked_im.permute(1, 2, 0).data.numpy())\n",
    "        slot.set_title(f\"ts={frame.frame_timestamp:.2f} sec\")"
   ]
  },
  {
   "cell_type": "markdown",
   "metadata": {},
   "source": [
    "plotly widget with 3D camera poses . To convert camera to pytorch3d representation, use the _get_pytorch3d_camera_from_uco3d_camera function here"
   ]
  },
  {
   "cell_type": "code",
   "execution_count": 29,
   "metadata": {},
   "outputs": [
    {
     "data": {
      "application/vnd.plotly.v1+json": {
       "config": {
        "plotlyServerURL": "https://plot.ly"
       },
       "data": [
        {
         "marker": {
          "size": 1
         },
         "name": "cameras",
         "scene": "scene",
         "type": "scatter3d",
         "x": [
          1.4628430604934692,
          1.198062539100647,
          1.2281252145767212,
          1.198062539100647,
          0.9332820773124695,
          0.7529064416885376,
          1.2824674844741821,
          1.4628430604934692,
          1.2552671432495117,
          0.9332820773124695,
          0.7529064416885376,
          1.2552671432495117,
          1.2824674844741821,
          1.2552671432495117,
          1.034178614616394,
          null,
          1.0321999788284302,
          0.7449617981910706,
          0.7642362713813782,
          0.7449617981910706,
          0.45772358775138855,
          0.3420766294002533,
          0.9165530204772949,
          1.0321999788284302,
          0.7658812999725342,
          0.45772358775138855,
          0.3420766294002533,
          0.7658812999725342,
          0.9165530204772949,
          0.7658812999725342,
          0.6477668285369873,
          null,
          0.06497050821781158,
          -0.23502950370311737,
          -0.23504267632961273,
          -0.23502950370311737,
          -0.5350295305252075,
          -0.5349504947662354,
          0.06504954397678375,
          0.06497050821781158,
          -0.2351463884115219,
          -0.5350295305252075,
          -0.5349504947662354,
          -0.2351463884115219,
          0.06504954397678375,
          -0.2351463884115219,
          -0.23491176962852478,
          null,
          -1.4008758068084717,
          -1.679152011871338,
          -1.7029865980148315,
          -1.679152011871338,
          -1.957428216934204,
          -1.8144211769104004,
          -1.257868766784668,
          -1.4008758068084717,
          -1.7255131006240845,
          -1.957428216934204,
          -1.8144211769104004,
          -1.7255131006240845,
          -1.257868766784668,
          -1.7255131006240845,
          -1.5487161874771118,
          null,
          -1.997796893119812,
          -2.2274794578552246,
          -2.271052122116089,
          -2.2274794578552246,
          -2.4571621417999268,
          -2.1957271099090576,
          -1.7363617420196533,
          -1.997796893119812,
          -2.262519121170044,
          -2.4571621417999268,
          -2.1957271099090576,
          -2.262519121170044,
          -1.7363617420196533,
          -2.262519121170044,
          -2.013883352279663,
          null,
          -2.9806418418884277,
          -3.108978509902954,
          -3.169196367263794,
          -3.108978509902954,
          -3.2373154163360596,
          -2.8760082721710205,
          -2.6193346977233887,
          -2.9806418418884277,
          -3.177408218383789,
          -3.2373154163360596,
          -2.8760082721710205,
          -3.177408218383789,
          -2.6193346977233887,
          -3.177408218383789,
          -2.803783416748047,
          null,
          -3.1511189937591553,
          -3.171790361404419,
          -3.2396647930145264,
          -3.171790361404419,
          -3.1924619674682617,
          -2.785215139389038,
          -2.7438721656799316,
          -3.1511189937591553,
          -3.220052719116211,
          -3.1924619674682617,
          -2.785215139389038,
          -3.220052719116211,
          -2.7438721656799316,
          -3.220052719116211,
          -2.84222412109375,
          null,
          -3.3914458751678467,
          -3.2841343879699707,
          -3.3467249870300293,
          -3.2841343879699707,
          -3.176823139190674,
          -2.8012804985046387,
          -3.0159034729003906,
          -3.3914458751678467,
          -3.347785711288452,
          -3.176823139190674,
          -2.8012804985046387,
          -3.347785711288452,
          -3.0159034729003906,
          -3.347785711288452,
          -2.9706521034240723,
          null,
          -2.5250766277313232,
          -2.3358852863311768,
          -2.3884730339050293,
          -2.3358852863311768,
          -2.1466939449310303,
          -1.8311686515808105,
          -2.2095513343811035,
          -2.5250766277313232,
          -2.377716541290283,
          -2.1466939449310303,
          -1.8311686515808105,
          -2.377716541290283,
          -2.2095513343811035,
          -2.377716541290283,
          -2.0783257484436035,
          null,
          -1.6523418426513672,
          -1.381713628768921,
          -1.4128588438034058,
          -1.381713628768921,
          -1.1110854148864746,
          -0.9242141842842102,
          -1.4654706716537476,
          -1.6523418426513672,
          -1.358704924583435,
          -1.1110854148864746,
          -0.9242141842842102,
          -1.358704924583435,
          -1.4654706716537476,
          -1.358704924583435,
          -1.2530646324157715,
          null,
          -0.46875590085983276,
          -0.1713017076253891,
          -0.1794532686471939,
          -0.1713017076253891,
          0.12615250051021576,
          0.17506186664104462,
          -0.4198465347290039,
          -0.46875590085983276,
          -0.10405309498310089,
          0.12615250051021576,
          0.17506186664104462,
          -0.10405309498310089,
          -0.4198465347290039,
          -0.10405309498310089,
          -0.16824398934841156,
          null,
          1.0789817571640015,
          1.3576747179031372,
          1.3755422830581665,
          1.3576747179031372,
          1.636367678642273,
          1.5291622877120972,
          0.9717763662338257,
          1.0789817571640015,
          1.4740395545959473,
          1.636367678642273,
          1.5291622877120972,
          1.4740395545959473,
          0.9717763662338257,
          1.4740395545959473,
          1.2190883159637451,
          null,
          2.2449817657470703,
          2.4700393676757812,
          2.507733106613159,
          2.4700393676757812,
          2.695096969604492,
          2.4689345359802246,
          2.0188193321228027,
          2.2449817657470703,
          2.6147639751434326,
          2.695096969604492,
          2.4689345359802246,
          2.6147639751434326,
          2.0188193321228027,
          2.6147639751434326,
          2.228055238723755,
          null,
          3.423954486846924,
          3.5633299350738525,
          3.6175451278686523,
          3.5633299350738525,
          3.7027053833007812,
          3.3774142265319824,
          3.098663568496704,
          3.423954486846924,
          3.707578420639038,
          3.7027053833007812,
          3.3774142265319824,
          3.707578420639038,
          3.098663568496704,
          3.707578420639038,
          3.24723744392395,
          null,
          3.5472629070281982,
          3.606046438217163,
          3.667910099029541,
          3.606046438217163,
          3.664829969406128,
          3.2936482429504395,
          3.176081418991089,
          3.5472629070281982,
          3.738643169403076,
          3.664829969406128,
          3.2936482429504395,
          3.738643169403076,
          3.176081418991089,
          3.738643169403076,
          3.261362075805664,
          null,
          3.5793685913085938,
          3.5259249210357666,
          3.58888840675354,
          3.5259249210357666,
          3.4724812507629395,
          3.094701051712036,
          3.2015883922576904,
          3.5793685913085938,
          3.645019292831421,
          3.4724812507629395,
          3.094701051712036,
          3.645019292831421,
          3.2015883922576904,
          3.645019292831421,
          3.1830427646636963,
          null,
          3.1452443599700928,
          2.986966848373413,
          3.0425477027893066,
          2.986966848373413,
          2.8286890983581543,
          2.4952032566070557,
          2.811758518218994,
          3.1452443599700928,
          3.0693845748901367,
          2.8286890983581543,
          2.4952032566070557,
          3.0693845748901367,
          2.811758518218994,
          3.0693845748901367,
          2.695643424987793,
          null,
          1.9355705976486206,
          1.6958305835723877,
          1.7369568347930908,
          1.6958305835723877,
          1.4560904502868652,
          1.2093324661254883,
          1.6888126134872437,
          1.9355705976486206,
          1.720271348953247,
          1.4560904502868652,
          1.2093324661254883,
          1.720271348953247,
          1.6888126134872437,
          1.720271348953247,
          1.4985415935516357,
          null,
          0.4381892681121826,
          0.1515699326992035,
          0.17253154516220093,
          0.1515699326992035,
          -0.13504941761493683,
          -0.26081907749176025,
          0.312419593334198,
          0.4381892681121826,
          0.14592663943767548,
          -0.13504941761493683,
          -0.26081907749176025,
          0.14592663943767548,
          0.312419593334198,
          0.14592663943767548,
          0.060064300894737244,
          null,
          -0.9004967212677002,
          -1.196708083152771,
          -1.202666163444519,
          -1.196708083152771,
          -1.4929194450378418,
          -1.4571706056594849,
          -0.8647478818893433,
          -0.9004967212677002,
          -1.261073350906372,
          -1.4929194450378418,
          -1.4571706056594849,
          -1.261073350906372,
          -0.8647478818893433,
          -1.261073350906372,
          -1.1377137899398804
         ],
         "y": [
          -2.1147725582122803,
          -2.2373974323272705,
          -2.3058290481567383,
          -2.2373974323272705,
          -2.3600223064422607,
          -1.949432134628296,
          -1.704182505607605,
          -2.1147725582122803,
          -2.0199689865112305,
          -2.3600223064422607,
          -1.949432134628296,
          -2.0199689865112305,
          -1.704182505607605,
          -2.0199689865112305,
          -2.0381691455841064,
          null,
          -2.476879596710205,
          -2.555481433868408,
          -2.627842426300049,
          -2.555481433868408,
          -2.6340832710266113,
          -2.199918270111084,
          -2.0427145957946777,
          -2.476879596710205,
          -2.351705551147461,
          -2.6340832710266113,
          -2.199918270111084,
          -2.351705551147461,
          -2.0427145957946777,
          -2.351705551147461,
          -2.3317456245422363,
          null,
          -2.456408977508545,
          -2.4563562870025635,
          -2.5313563346862793,
          -2.4563562870025635,
          -2.456303834915161,
          -2.0063042640686035,
          -2.0064094066619873,
          -2.456408977508545,
          -2.2305102348327637,
          -2.456303834915161,
          -2.0063042640686035,
          -2.2305102348327637,
          -2.0064094066619873,
          -2.2305102348327637,
          -2.2317798137664795,
          null,
          -2.363065242767334,
          -2.2654526233673096,
          -2.336369752883911,
          -2.2654526233673096,
          -2.167840003967285,
          -1.7423375844955444,
          -1.9375628232955933,
          -2.363065242767334,
          -2.0567359924316406,
          -2.167840003967285,
          -1.7423375844955444,
          -2.0567359924316406,
          -1.9375628232955933,
          -2.0567359924316406,
          -2.0506842136383057,
          null,
          -1.7891614437103271,
          -1.6139476299285889,
          -1.6745295524597168,
          -1.6139476299285889,
          -1.4387338161468506,
          -1.075242519378662,
          -1.4256702661514282,
          -1.7891614437103271,
          -1.3841391801834106,
          -1.4387338161468506,
          -1.075242519378662,
          -1.3841391801834106,
          -1.4256702661514282,
          -1.3841391801834106,
          -1.4562333822250366,
          null,
          -0.8221748471260071,
          -0.5821004509925842,
          -0.6233479976654053,
          -0.5821004509925842,
          -0.342026025056839,
          -0.09454077482223511,
          -0.5746896266937256,
          -0.8221748471260071,
          -0.31493502855300903,
          -0.342026025056839,
          -0.09454077482223511,
          -0.31493502855300903,
          -0.5746896266937256,
          -0.31493502855300903,
          -0.5300692319869995,
          null,
          0.22481918334960938,
          0.4912031888961792,
          0.4726439416408539,
          0.4912031888961792,
          0.757587194442749,
          0.8689427375793457,
          0.33617472648620605,
          0.22481918334960938,
          0.7795045971870422,
          0.757587194442749,
          0.8689427375793457,
          0.7795045971870422,
          0.33617472648620605,
          0.7795045971870422,
          0.4305691421031952,
          null,
          1.4142786264419556,
          1.6566451787948608,
          1.6605074405670166,
          1.6566451787948608,
          1.8990118503570557,
          1.8758379220962524,
          1.3911046981811523,
          1.4142786264419556,
          1.9973068237304688,
          1.8990118503570557,
          1.8758379220962524,
          1.9973068237304688,
          1.3911046981811523,
          1.9973068237304688,
          1.4689340591430664,
          null,
          2.2715721130371094,
          2.4781155586242676,
          2.501187562942505,
          2.4781155586242676,
          2.684659242630005,
          2.54622745513916,
          2.1331403255462646,
          2.2715721130371094,
          2.802969455718994,
          2.684659242630005,
          2.54622745513916,
          2.802969455718994,
          2.1331403255462646,
          2.802969455718994,
          2.211864948272705,
          null,
          3.253401041030884,
          3.3540117740631104,
          3.391770839691162,
          3.3540117740631104,
          3.454622507095337,
          3.2280685901641846,
          3.0268471240997314,
          3.253401041030884,
          3.718502998352051,
          3.454622507095337,
          3.2280685901641846,
          3.718502998352051,
          3.0268471240997314,
          3.718502998352051,
          3.0018506050109863,
          null,
          3.387240409851074,
          3.3894450664520264,
          3.434041976928711,
          3.3894450664520264,
          3.3916499614715576,
          3.124068260192871,
          3.1196587085723877,
          3.387240409851074,
          3.7380356788635254,
          3.3916499614715576,
          3.124068260192871,
          3.7380356788635254,
          3.1196587085723877,
          3.7380356788635254,
          3.0144636631011963,
          null,
          3.4617347717285156,
          3.3514256477355957,
          3.389392852783203,
          3.3514256477355957,
          3.2411162853240967,
          3.013312339782715,
          3.233931064605713,
          3.4617347717285156,
          3.705573081970215,
          3.2411162853240967,
          3.013312339782715,
          3.705573081970215,
          3.233931064605713,
          3.705573081970215,
          3.0034987926483154,
          null,
          2.7450449466705322,
          2.5527923107147217,
          2.5822339057922363,
          2.5527923107147217,
          2.360539436340332,
          2.183889389038086,
          2.568394660949707,
          2.7450449466705322,
          2.860294818878174,
          2.360539436340332,
          2.183889389038086,
          2.860294818878174,
          2.568394660949707,
          2.860294818878174,
          2.2665534019470215,
          null,
          1.9935446977615356,
          1.7460864782333374,
          1.7568225860595703,
          1.7460864782333374,
          1.4986282587051392,
          1.4342118501663208,
          1.9291282892227173,
          1.9935446977615356,
          2.0420260429382324,
          1.4986282587051392,
          1.4342118501663208,
          2.0420260429382324,
          1.9291282892227173,
          2.0420260429382324,
          1.549804449081421,
          null,
          1.0157510042190552,
          0.7418392896652222,
          0.7385529279708862,
          0.7418392896652222,
          0.4679275155067444,
          0.4876452088356018,
          1.0354686975479126,
          1.0157510042190552,
          0.9950050711631775,
          0.4679275155067444,
          0.4876452088356018,
          0.9950050711631775,
          1.0354686975479126,
          0.9950050711631775,
          0.6300446391105652,
          null,
          -0.3878043591976166,
          -0.6637009382247925,
          -0.6882703304290771,
          -0.6637009382247925,
          -0.939597487449646,
          -0.7921810150146484,
          -0.24038788676261902,
          -0.3878043591976166,
          -0.46002987027168274,
          -0.939597487449646,
          -0.7921810150146484,
          -0.46002987027168274,
          -0.24038788676261902,
          -0.46002987027168274,
          -0.654974102973938,
          null,
          -1.5410815477371216,
          -1.7810288667678833,
          -1.825882911682129,
          -1.7810288667678833,
          -2.0209760665893555,
          -1.7518519163131714,
          -1.2719571590423584,
          -1.5410815477371216,
          -1.6158002614974976,
          -2.0209760665893555,
          -1.7518519163131714,
          -1.6158002614974976,
          -1.2719571590423584,
          -1.6158002614974976,
          -1.6617999076843262,
          null,
          -2.427726984024048,
          -2.600794553756714,
          -2.661902904510498,
          -2.600794553756714,
          -2.77386212348938,
          -2.407212972640991,
          -2.061077833175659,
          -2.427726984024048,
          -2.4521260261535645,
          -2.77386212348938,
          -2.407212972640991,
          -2.4521260261535645,
          -2.061077833175659,
          -2.4521260261535645,
          -2.400141954421997,
          null,
          -3.046182632446289,
          -3.133232831954956,
          -3.204369068145752,
          -3.133232831954956,
          -3.220283269882202,
          -2.7934651374816895,
          -2.6193647384643555,
          -3.046182632446289,
          -2.996145248413086,
          -3.220283269882202,
          -2.7934651374816895,
          -2.996145248413086,
          -2.6193647384643555,
          -2.996145248413086,
          -2.8816633224487305,
          null,
          -3.059537410736084,
          -3.030803918838501,
          -3.1049411296844482,
          -3.030803918838501,
          -3.002070188522339,
          -2.5572457313537598,
          -2.614712953567505,
          -3.059537410736084,
          -2.878610134124756,
          -3.002070188522339,
          -2.5572457313537598,
          -2.878610134124756,
          -2.614712953567505,
          -2.878610134124756,
          -2.773282289505005
         ],
         "z": [
          -0.39195311069488525,
          -0.46162688732147217,
          -0.45543473958969116,
          -0.46162688732147217,
          -0.5313007235527039,
          -0.5684539079666138,
          -0.42910629510879517,
          -0.39195311069488525,
          -1.0616915225982666,
          -0.5313007235527039,
          -0.5684539079666138,
          -1.0616915225982666,
          -0.42910629510879517,
          -1.0616915225982666,
          -0.18945950269699097,
          null,
          -0.6593183279037476,
          -0.6955945491790771,
          -0.6914230585098267,
          -0.6955945491790771,
          -0.731870710849762,
          -0.7568994760513306,
          -0.6843470931053162,
          -0.6593183279037476,
          -1.3027706146240234,
          -0.731870710849762,
          -0.7568994760513306,
          -1.3027706146240234,
          -0.6843470931053162,
          -1.3027706146240234,
          -0.4107780456542969,
          null,
          -0.7339561581611633,
          -0.7338778972625732,
          -0.7339836955070496,
          -0.7338778972625732,
          -0.7337995767593384,
          -0.7331648468971252,
          -0.7333214282989502,
          -0.7339561581611633,
          -1.3335598707199097,
          -0.7337995767593384,
          -0.7331648468971252,
          -1.3335598707199097,
          -0.7333214282989502,
          -1.3335598707199097,
          -0.4335607886314392,
          null,
          -0.6271533966064453,
          -0.5720704197883606,
          -0.566808819770813,
          -0.5720704197883606,
          -0.5169873833656311,
          -0.548556923866272,
          -0.6587229371070862,
          -0.6271533966064453,
          -1.1761506795883179,
          -0.5169873833656311,
          -0.548556923866272,
          -1.1761506795883179,
          -0.6587229371070862,
          -1.1761506795883179,
          -0.29370737075805664,
          null,
          -0.21497750282287598,
          -0.13407021760940552,
          -0.12656867504119873,
          -0.13407021760940552,
          -0.05316293239593506,
          -0.09817230701446533,
          -0.25998687744140625,
          -0.21497750282287598,
          -0.7312178611755371,
          -0.05316293239593506,
          -0.09817230701446533,
          -0.7312178611755371,
          -0.25998687744140625,
          -0.7312178611755371,
          0.13074654340744019,
          null,
          0.1868361234664917,
          0.312907338142395,
          0.33015406131744385,
          0.312907338142395,
          0.43897855281829834,
          0.3354983329772949,
          0.08335590362548828,
          0.1868361234664917,
          -0.26550865173339844,
          0.43897855281829834,
          0.3354983329772949,
          -0.26550865173339844,
          0.08335590362548828,
          -0.26550865173339844,
          0.5245051980018616,
          null,
          0.6623302698135376,
          0.798757016658783,
          0.8247110247612,
          0.798757016658783,
          0.9351837635040283,
          0.7794596552848816,
          0.5066061019897461,
          0.6623302698135376,
          0.22851312160491943,
          0.9351837635040283,
          0.7794596552848816,
          0.22851312160491943,
          0.5066061019897461,
          0.22851312160491943,
          0.9670858383178711,
          null,
          1.3414682149887085,
          1.4819769859313965,
          1.5231173038482666,
          1.4819769859313965,
          1.622485637664795,
          1.3756439685821533,
          1.0946264266967773,
          1.3414682149887085,
          0.9429749250411987,
          1.622485637664795,
          1.3756439685821533,
          0.9429749250411987,
          1.0946264266967773,
          0.9429749250411987,
          1.5663466453552246,
          null,
          1.803603172302246,
          1.911057472229004,
          1.959298849105835,
          1.911057472229004,
          2.0185117721557617,
          1.7290632724761963,
          1.5141546726226807,
          1.803603172302246,
          1.3602895736694336,
          2.0185117721557617,
          1.7290632724761963,
          1.3602895736694336,
          1.5141546726226807,
          1.3602895736694336,
          1.9693549871444702,
          null,
          2.2070858478546143,
          2.2885587215423584,
          2.3453850746154785,
          2.2885587215423584,
          2.3700315952301025,
          2.029073476791382,
          1.8661277294158936,
          2.2070858478546143,
          1.7620211839675903,
          2.3700315952301025,
          2.029073476791382,
          1.7620211839675903,
          1.8661277294158936,
          1.7620211839675903,
          2.2961089611053467,
          null,
          2.4245262145996094,
          2.46346378326416,
          2.5232105255126953,
          2.46346378326416,
          2.502401351928711,
          2.143921375274658,
          2.0660462379455566,
          2.4245262145996094,
          1.9299964904785156,
          2.502401351928711,
          2.143921375274658,
          1.9299964904785156,
          2.0660462379455566,
          1.9299964904785156,
          2.4613373279571533,
          null,
          2.5949807167053223,
          2.582249402999878,
          2.6444122791290283,
          2.582249402999878,
          2.5695180892944336,
          2.196540355682373,
          2.2220029830932617,
          2.5949807167053223,
          2.061035633087158,
          2.5695180892944336,
          2.196540355682373,
          2.061035633087158,
          2.2220029830932617,
          2.061035633087158,
          2.5631229877471924,
          null,
          2.230520009994507,
          2.1816534996032715,
          2.2394232749938965,
          2.1816534996032715,
          2.132786750793457,
          1.786167025566101,
          1.8839001655578613,
          2.230520009994507,
          1.6384021043777466,
          2.132786750793457,
          1.786167025566101,
          1.6384021043777466,
          1.8839001655578613,
          1.6384021043777466,
          2.19331431388855,
          null,
          1.7487101554870605,
          1.6520718336105347,
          1.7027714252471924,
          1.6520718336105347,
          1.5554335117340088,
          1.2512357234954834,
          1.4445123672485352,
          1.7487101554870605,
          1.1023107767105103,
          1.5554335117340088,
          1.2512357234954834,
          1.1023107767105103,
          1.4445123672485352,
          1.1023107767105103,
          1.6988039016723633,
          null,
          1.5028241872787476,
          1.395507574081421,
          1.437781572341919,
          1.395507574081421,
          1.2881908416748047,
          1.0345464944839478,
          1.2491798400878906,
          1.5028241872787476,
          0.8219656944274902,
          1.2881908416748047,
          1.0345464944839478,
          0.8219656944274902,
          1.2491798400878906,
          0.8219656944274902,
          1.4920451641082764,
          null,
          0.589985728263855,
          0.48498642444610596,
          0.5174973011016846,
          0.48498642444610596,
          0.37998712062835693,
          0.1849217712879181,
          0.39492034912109375,
          0.589985728263855,
          -0.11079847812652588,
          0.37998712062835693,
          0.1849217712879181,
          -0.11079847812652588,
          0.39492034912109375,
          -0.11079847812652588,
          0.6365798115730286,
          null,
          0.1353512406349182,
          0.04948228597640991,
          0.07237046957015991,
          0.04948228597640991,
          -0.03638660907745361,
          -0.1737157702445984,
          -0.0019779205322265625,
          0.1353512406349182,
          -0.5641395449638367,
          -0.03638660907745361,
          -0.1737157702445984,
          -0.5641395449638367,
          -0.0019779205322265625,
          -0.5641395449638367,
          0.253296434879303,
          null,
          -0.4742797613143921,
          -0.5249979496002197,
          -0.5108765959739685,
          -0.5249979496002197,
          -0.5757161378860474,
          -0.6604442596435547,
          -0.5590078830718994,
          -0.4742797613143921,
          -1.1478345394134521,
          -0.5757161378860474,
          -0.6604442596435547,
          -1.1478345394134521,
          -0.5590078830718994,
          -1.1478345394134521,
          -0.2771257758140564,
          null,
          -0.8033878803253174,
          -0.819868803024292,
          -0.8086779117584229,
          -0.819868803024292,
          -0.8363496661186218,
          -0.9034948348999023,
          -0.8705330491065979,
          -0.8033878803253174,
          -1.4458081722259521,
          -0.8363496661186218,
          -0.9034948348999023,
          -1.4458081722259521,
          -0.8705330491065979,
          -1.4458081722259521,
          -0.5572579503059387,
          null,
          -0.9977197051048279,
          -0.9598618745803833,
          -0.9502108097076416,
          -0.9598618745803833,
          -0.9220041036605835,
          -0.9799105525016785,
          -1.0556261539459229,
          -0.9977197051048279,
          -1.5789897441864014,
          -0.9220041036605835,
          -0.9799105525016785,
          -1.5789897441864014,
          -1.0556261539459229,
          -1.5789897441864014,
          -0.6937277913093567
         ]
        }
       ],
       "layout": {
        "annotations": [
         {
          "font": {
           "size": 16
          },
          "showarrow": false,
          "text": "main",
          "x": 0.5,
          "xanchor": "center",
          "xref": "paper",
          "y": 1,
          "yanchor": "bottom",
          "yref": "paper"
         }
        ],
        "scene": {
         "aspectmode": "cube",
         "camera": {
          "up": {
           "x": 0,
           "y": 1,
           "z": 0
          }
         },
         "domain": {
          "x": [
           0,
           1
          ],
          "y": [
           0,
           1
          ]
         },
         "xaxis": {
          "backgroundcolor": "#fff",
          "range": [
           -7.004208087921143,
           7.255969524383545
          ],
          "showaxeslabels": false,
          "showgrid": false,
          "showline": false,
          "showticklabels": false,
          "ticks": "",
          "zeroline": false
         },
         "yaxis": {
          "backgroundcolor": "#fff",
          "range": [
           -7.200329303741455,
           7.059848308563232
          ],
          "showaxeslabels": false,
          "showgrid": false,
          "showline": false,
          "showticklabels": false,
          "ticks": "",
          "zeroline": false
         },
         "zaxis": {
          "backgroundcolor": "#fff",
          "range": [
           -6.644233226776123,
           7.6159443855285645
          ],
          "showaxeslabels": false,
          "showgrid": false,
          "showline": false,
          "showticklabels": false,
          "ticks": "",
          "zeroline": false
         }
        },
        "template": {
         "data": {
          "bar": [
           {
            "error_x": {
             "color": "#2a3f5f"
            },
            "error_y": {
             "color": "#2a3f5f"
            },
            "marker": {
             "line": {
              "color": "#E5ECF6",
              "width": 0.5
             },
             "pattern": {
              "fillmode": "overlay",
              "size": 10,
              "solidity": 0.2
             }
            },
            "type": "bar"
           }
          ],
          "barpolar": [
           {
            "marker": {
             "line": {
              "color": "#E5ECF6",
              "width": 0.5
             },
             "pattern": {
              "fillmode": "overlay",
              "size": 10,
              "solidity": 0.2
             }
            },
            "type": "barpolar"
           }
          ],
          "carpet": [
           {
            "aaxis": {
             "endlinecolor": "#2a3f5f",
             "gridcolor": "white",
             "linecolor": "white",
             "minorgridcolor": "white",
             "startlinecolor": "#2a3f5f"
            },
            "baxis": {
             "endlinecolor": "#2a3f5f",
             "gridcolor": "white",
             "linecolor": "white",
             "minorgridcolor": "white",
             "startlinecolor": "#2a3f5f"
            },
            "type": "carpet"
           }
          ],
          "choropleth": [
           {
            "colorbar": {
             "outlinewidth": 0,
             "ticks": ""
            },
            "type": "choropleth"
           }
          ],
          "contour": [
           {
            "colorbar": {
             "outlinewidth": 0,
             "ticks": ""
            },
            "colorscale": [
             [
              0,
              "#0d0887"
             ],
             [
              0.1111111111111111,
              "#46039f"
             ],
             [
              0.2222222222222222,
              "#7201a8"
             ],
             [
              0.3333333333333333,
              "#9c179e"
             ],
             [
              0.4444444444444444,
              "#bd3786"
             ],
             [
              0.5555555555555556,
              "#d8576b"
             ],
             [
              0.6666666666666666,
              "#ed7953"
             ],
             [
              0.7777777777777778,
              "#fb9f3a"
             ],
             [
              0.8888888888888888,
              "#fdca26"
             ],
             [
              1,
              "#f0f921"
             ]
            ],
            "type": "contour"
           }
          ],
          "contourcarpet": [
           {
            "colorbar": {
             "outlinewidth": 0,
             "ticks": ""
            },
            "type": "contourcarpet"
           }
          ],
          "heatmap": [
           {
            "colorbar": {
             "outlinewidth": 0,
             "ticks": ""
            },
            "colorscale": [
             [
              0,
              "#0d0887"
             ],
             [
              0.1111111111111111,
              "#46039f"
             ],
             [
              0.2222222222222222,
              "#7201a8"
             ],
             [
              0.3333333333333333,
              "#9c179e"
             ],
             [
              0.4444444444444444,
              "#bd3786"
             ],
             [
              0.5555555555555556,
              "#d8576b"
             ],
             [
              0.6666666666666666,
              "#ed7953"
             ],
             [
              0.7777777777777778,
              "#fb9f3a"
             ],
             [
              0.8888888888888888,
              "#fdca26"
             ],
             [
              1,
              "#f0f921"
             ]
            ],
            "type": "heatmap"
           }
          ],
          "heatmapgl": [
           {
            "colorbar": {
             "outlinewidth": 0,
             "ticks": ""
            },
            "colorscale": [
             [
              0,
              "#0d0887"
             ],
             [
              0.1111111111111111,
              "#46039f"
             ],
             [
              0.2222222222222222,
              "#7201a8"
             ],
             [
              0.3333333333333333,
              "#9c179e"
             ],
             [
              0.4444444444444444,
              "#bd3786"
             ],
             [
              0.5555555555555556,
              "#d8576b"
             ],
             [
              0.6666666666666666,
              "#ed7953"
             ],
             [
              0.7777777777777778,
              "#fb9f3a"
             ],
             [
              0.8888888888888888,
              "#fdca26"
             ],
             [
              1,
              "#f0f921"
             ]
            ],
            "type": "heatmapgl"
           }
          ],
          "histogram": [
           {
            "marker": {
             "pattern": {
              "fillmode": "overlay",
              "size": 10,
              "solidity": 0.2
             }
            },
            "type": "histogram"
           }
          ],
          "histogram2d": [
           {
            "colorbar": {
             "outlinewidth": 0,
             "ticks": ""
            },
            "colorscale": [
             [
              0,
              "#0d0887"
             ],
             [
              0.1111111111111111,
              "#46039f"
             ],
             [
              0.2222222222222222,
              "#7201a8"
             ],
             [
              0.3333333333333333,
              "#9c179e"
             ],
             [
              0.4444444444444444,
              "#bd3786"
             ],
             [
              0.5555555555555556,
              "#d8576b"
             ],
             [
              0.6666666666666666,
              "#ed7953"
             ],
             [
              0.7777777777777778,
              "#fb9f3a"
             ],
             [
              0.8888888888888888,
              "#fdca26"
             ],
             [
              1,
              "#f0f921"
             ]
            ],
            "type": "histogram2d"
           }
          ],
          "histogram2dcontour": [
           {
            "colorbar": {
             "outlinewidth": 0,
             "ticks": ""
            },
            "colorscale": [
             [
              0,
              "#0d0887"
             ],
             [
              0.1111111111111111,
              "#46039f"
             ],
             [
              0.2222222222222222,
              "#7201a8"
             ],
             [
              0.3333333333333333,
              "#9c179e"
             ],
             [
              0.4444444444444444,
              "#bd3786"
             ],
             [
              0.5555555555555556,
              "#d8576b"
             ],
             [
              0.6666666666666666,
              "#ed7953"
             ],
             [
              0.7777777777777778,
              "#fb9f3a"
             ],
             [
              0.8888888888888888,
              "#fdca26"
             ],
             [
              1,
              "#f0f921"
             ]
            ],
            "type": "histogram2dcontour"
           }
          ],
          "mesh3d": [
           {
            "colorbar": {
             "outlinewidth": 0,
             "ticks": ""
            },
            "type": "mesh3d"
           }
          ],
          "parcoords": [
           {
            "line": {
             "colorbar": {
              "outlinewidth": 0,
              "ticks": ""
             }
            },
            "type": "parcoords"
           }
          ],
          "pie": [
           {
            "automargin": true,
            "type": "pie"
           }
          ],
          "scatter": [
           {
            "fillpattern": {
             "fillmode": "overlay",
             "size": 10,
             "solidity": 0.2
            },
            "type": "scatter"
           }
          ],
          "scatter3d": [
           {
            "line": {
             "colorbar": {
              "outlinewidth": 0,
              "ticks": ""
             }
            },
            "marker": {
             "colorbar": {
              "outlinewidth": 0,
              "ticks": ""
             }
            },
            "type": "scatter3d"
           }
          ],
          "scattercarpet": [
           {
            "marker": {
             "colorbar": {
              "outlinewidth": 0,
              "ticks": ""
             }
            },
            "type": "scattercarpet"
           }
          ],
          "scattergeo": [
           {
            "marker": {
             "colorbar": {
              "outlinewidth": 0,
              "ticks": ""
             }
            },
            "type": "scattergeo"
           }
          ],
          "scattergl": [
           {
            "marker": {
             "colorbar": {
              "outlinewidth": 0,
              "ticks": ""
             }
            },
            "type": "scattergl"
           }
          ],
          "scattermapbox": [
           {
            "marker": {
             "colorbar": {
              "outlinewidth": 0,
              "ticks": ""
             }
            },
            "type": "scattermapbox"
           }
          ],
          "scatterpolar": [
           {
            "marker": {
             "colorbar": {
              "outlinewidth": 0,
              "ticks": ""
             }
            },
            "type": "scatterpolar"
           }
          ],
          "scatterpolargl": [
           {
            "marker": {
             "colorbar": {
              "outlinewidth": 0,
              "ticks": ""
             }
            },
            "type": "scatterpolargl"
           }
          ],
          "scatterternary": [
           {
            "marker": {
             "colorbar": {
              "outlinewidth": 0,
              "ticks": ""
             }
            },
            "type": "scatterternary"
           }
          ],
          "surface": [
           {
            "colorbar": {
             "outlinewidth": 0,
             "ticks": ""
            },
            "colorscale": [
             [
              0,
              "#0d0887"
             ],
             [
              0.1111111111111111,
              "#46039f"
             ],
             [
              0.2222222222222222,
              "#7201a8"
             ],
             [
              0.3333333333333333,
              "#9c179e"
             ],
             [
              0.4444444444444444,
              "#bd3786"
             ],
             [
              0.5555555555555556,
              "#d8576b"
             ],
             [
              0.6666666666666666,
              "#ed7953"
             ],
             [
              0.7777777777777778,
              "#fb9f3a"
             ],
             [
              0.8888888888888888,
              "#fdca26"
             ],
             [
              1,
              "#f0f921"
             ]
            ],
            "type": "surface"
           }
          ],
          "table": [
           {
            "cells": {
             "fill": {
              "color": "#EBF0F8"
             },
             "line": {
              "color": "white"
             }
            },
            "header": {
             "fill": {
              "color": "#C8D4E3"
             },
             "line": {
              "color": "white"
             }
            },
            "type": "table"
           }
          ]
         },
         "layout": {
          "annotationdefaults": {
           "arrowcolor": "#2a3f5f",
           "arrowhead": 0,
           "arrowwidth": 1
          },
          "autotypenumbers": "strict",
          "coloraxis": {
           "colorbar": {
            "outlinewidth": 0,
            "ticks": ""
           }
          },
          "colorscale": {
           "diverging": [
            [
             0,
             "#8e0152"
            ],
            [
             0.1,
             "#c51b7d"
            ],
            [
             0.2,
             "#de77ae"
            ],
            [
             0.3,
             "#f1b6da"
            ],
            [
             0.4,
             "#fde0ef"
            ],
            [
             0.5,
             "#f7f7f7"
            ],
            [
             0.6,
             "#e6f5d0"
            ],
            [
             0.7,
             "#b8e186"
            ],
            [
             0.8,
             "#7fbc41"
            ],
            [
             0.9,
             "#4d9221"
            ],
            [
             1,
             "#276419"
            ]
           ],
           "sequential": [
            [
             0,
             "#0d0887"
            ],
            [
             0.1111111111111111,
             "#46039f"
            ],
            [
             0.2222222222222222,
             "#7201a8"
            ],
            [
             0.3333333333333333,
             "#9c179e"
            ],
            [
             0.4444444444444444,
             "#bd3786"
            ],
            [
             0.5555555555555556,
             "#d8576b"
            ],
            [
             0.6666666666666666,
             "#ed7953"
            ],
            [
             0.7777777777777778,
             "#fb9f3a"
            ],
            [
             0.8888888888888888,
             "#fdca26"
            ],
            [
             1,
             "#f0f921"
            ]
           ],
           "sequentialminus": [
            [
             0,
             "#0d0887"
            ],
            [
             0.1111111111111111,
             "#46039f"
            ],
            [
             0.2222222222222222,
             "#7201a8"
            ],
            [
             0.3333333333333333,
             "#9c179e"
            ],
            [
             0.4444444444444444,
             "#bd3786"
            ],
            [
             0.5555555555555556,
             "#d8576b"
            ],
            [
             0.6666666666666666,
             "#ed7953"
            ],
            [
             0.7777777777777778,
             "#fb9f3a"
            ],
            [
             0.8888888888888888,
             "#fdca26"
            ],
            [
             1,
             "#f0f921"
            ]
           ]
          },
          "colorway": [
           "#636efa",
           "#EF553B",
           "#00cc96",
           "#ab63fa",
           "#FFA15A",
           "#19d3f3",
           "#FF6692",
           "#B6E880",
           "#FF97FF",
           "#FECB52"
          ],
          "font": {
           "color": "#2a3f5f"
          },
          "geo": {
           "bgcolor": "white",
           "lakecolor": "white",
           "landcolor": "#E5ECF6",
           "showlakes": true,
           "showland": true,
           "subunitcolor": "white"
          },
          "hoverlabel": {
           "align": "left"
          },
          "hovermode": "closest",
          "mapbox": {
           "style": "light"
          },
          "paper_bgcolor": "white",
          "plot_bgcolor": "#E5ECF6",
          "polar": {
           "angularaxis": {
            "gridcolor": "white",
            "linecolor": "white",
            "ticks": ""
           },
           "bgcolor": "#E5ECF6",
           "radialaxis": {
            "gridcolor": "white",
            "linecolor": "white",
            "ticks": ""
           }
          },
          "scene": {
           "xaxis": {
            "backgroundcolor": "#E5ECF6",
            "gridcolor": "white",
            "gridwidth": 2,
            "linecolor": "white",
            "showbackground": true,
            "ticks": "",
            "zerolinecolor": "white"
           },
           "yaxis": {
            "backgroundcolor": "#E5ECF6",
            "gridcolor": "white",
            "gridwidth": 2,
            "linecolor": "white",
            "showbackground": true,
            "ticks": "",
            "zerolinecolor": "white"
           },
           "zaxis": {
            "backgroundcolor": "#E5ECF6",
            "gridcolor": "white",
            "gridwidth": 2,
            "linecolor": "white",
            "showbackground": true,
            "ticks": "",
            "zerolinecolor": "white"
           }
          },
          "shapedefaults": {
           "line": {
            "color": "#2a3f5f"
           }
          },
          "ternary": {
           "aaxis": {
            "gridcolor": "white",
            "linecolor": "white",
            "ticks": ""
           },
           "baxis": {
            "gridcolor": "white",
            "linecolor": "white",
            "ticks": ""
           },
           "bgcolor": "#E5ECF6",
           "caxis": {
            "gridcolor": "white",
            "linecolor": "white",
            "ticks": ""
           }
          },
          "title": {
           "x": 0.05
          },
          "xaxis": {
           "automargin": true,
           "gridcolor": "white",
           "linecolor": "white",
           "ticks": "",
           "title": {
            "standoff": 15
           },
           "zerolinecolor": "white",
           "zerolinewidth": 2
          },
          "yaxis": {
           "automargin": true,
           "gridcolor": "white",
           "linecolor": "white",
           "ticks": "",
           "title": {
            "standoff": 15
           },
           "zerolinecolor": "white",
           "zerolinewidth": 2
          }
         }
        }
       }
      },
      "text/html": [
       "<div>                            <div id=\"a48952b2-1cac-4fd1-8ea7-172952eae236\" class=\"plotly-graph-div\" style=\"height:525px; width:100%;\"></div>            <script type=\"text/javascript\">                require([\"plotly\"], function(Plotly) {                    window.PLOTLYENV=window.PLOTLYENV || {};                                    if (document.getElementById(\"a48952b2-1cac-4fd1-8ea7-172952eae236\")) {                    Plotly.newPlot(                        \"a48952b2-1cac-4fd1-8ea7-172952eae236\",                        [{\"marker\":{\"size\":1},\"name\":\"cameras\",\"x\":[1.4628430604934692,1.198062539100647,1.2281252145767212,1.198062539100647,0.9332820773124695,0.7529064416885376,1.2824674844741821,1.4628430604934692,1.2552671432495117,0.9332820773124695,0.7529064416885376,1.2552671432495117,1.2824674844741821,1.2552671432495117,1.034178614616394,null,1.0321999788284302,0.7449617981910706,0.7642362713813782,0.7449617981910706,0.45772358775138855,0.3420766294002533,0.9165530204772949,1.0321999788284302,0.7658812999725342,0.45772358775138855,0.3420766294002533,0.7658812999725342,0.9165530204772949,0.7658812999725342,0.6477668285369873,null,0.06497050821781158,-0.23502950370311737,-0.23504267632961273,-0.23502950370311737,-0.5350295305252075,-0.5349504947662354,0.06504954397678375,0.06497050821781158,-0.2351463884115219,-0.5350295305252075,-0.5349504947662354,-0.2351463884115219,0.06504954397678375,-0.2351463884115219,-0.23491176962852478,null,-1.4008758068084717,-1.679152011871338,-1.7029865980148315,-1.679152011871338,-1.957428216934204,-1.8144211769104004,-1.257868766784668,-1.4008758068084717,-1.7255131006240845,-1.957428216934204,-1.8144211769104004,-1.7255131006240845,-1.257868766784668,-1.7255131006240845,-1.5487161874771118,null,-1.997796893119812,-2.2274794578552246,-2.271052122116089,-2.2274794578552246,-2.4571621417999268,-2.1957271099090576,-1.7363617420196533,-1.997796893119812,-2.262519121170044,-2.4571621417999268,-2.1957271099090576,-2.262519121170044,-1.7363617420196533,-2.262519121170044,-2.013883352279663,null,-2.9806418418884277,-3.108978509902954,-3.169196367263794,-3.108978509902954,-3.2373154163360596,-2.8760082721710205,-2.6193346977233887,-2.9806418418884277,-3.177408218383789,-3.2373154163360596,-2.8760082721710205,-3.177408218383789,-2.6193346977233887,-3.177408218383789,-2.803783416748047,null,-3.1511189937591553,-3.171790361404419,-3.2396647930145264,-3.171790361404419,-3.1924619674682617,-2.785215139389038,-2.7438721656799316,-3.1511189937591553,-3.220052719116211,-3.1924619674682617,-2.785215139389038,-3.220052719116211,-2.7438721656799316,-3.220052719116211,-2.84222412109375,null,-3.3914458751678467,-3.2841343879699707,-3.3467249870300293,-3.2841343879699707,-3.176823139190674,-2.8012804985046387,-3.0159034729003906,-3.3914458751678467,-3.347785711288452,-3.176823139190674,-2.8012804985046387,-3.347785711288452,-3.0159034729003906,-3.347785711288452,-2.9706521034240723,null,-2.5250766277313232,-2.3358852863311768,-2.3884730339050293,-2.3358852863311768,-2.1466939449310303,-1.8311686515808105,-2.2095513343811035,-2.5250766277313232,-2.377716541290283,-2.1466939449310303,-1.8311686515808105,-2.377716541290283,-2.2095513343811035,-2.377716541290283,-2.0783257484436035,null,-1.6523418426513672,-1.381713628768921,-1.4128588438034058,-1.381713628768921,-1.1110854148864746,-0.9242141842842102,-1.4654706716537476,-1.6523418426513672,-1.358704924583435,-1.1110854148864746,-0.9242141842842102,-1.358704924583435,-1.4654706716537476,-1.358704924583435,-1.2530646324157715,null,-0.46875590085983276,-0.1713017076253891,-0.1794532686471939,-0.1713017076253891,0.12615250051021576,0.17506186664104462,-0.4198465347290039,-0.46875590085983276,-0.10405309498310089,0.12615250051021576,0.17506186664104462,-0.10405309498310089,-0.4198465347290039,-0.10405309498310089,-0.16824398934841156,null,1.0789817571640015,1.3576747179031372,1.3755422830581665,1.3576747179031372,1.636367678642273,1.5291622877120972,0.9717763662338257,1.0789817571640015,1.4740395545959473,1.636367678642273,1.5291622877120972,1.4740395545959473,0.9717763662338257,1.4740395545959473,1.2190883159637451,null,2.2449817657470703,2.4700393676757812,2.507733106613159,2.4700393676757812,2.695096969604492,2.4689345359802246,2.0188193321228027,2.2449817657470703,2.6147639751434326,2.695096969604492,2.4689345359802246,2.6147639751434326,2.0188193321228027,2.6147639751434326,2.228055238723755,null,3.423954486846924,3.5633299350738525,3.6175451278686523,3.5633299350738525,3.7027053833007812,3.3774142265319824,3.098663568496704,3.423954486846924,3.707578420639038,3.7027053833007812,3.3774142265319824,3.707578420639038,3.098663568496704,3.707578420639038,3.24723744392395,null,3.5472629070281982,3.606046438217163,3.667910099029541,3.606046438217163,3.664829969406128,3.2936482429504395,3.176081418991089,3.5472629070281982,3.738643169403076,3.664829969406128,3.2936482429504395,3.738643169403076,3.176081418991089,3.738643169403076,3.261362075805664,null,3.5793685913085938,3.5259249210357666,3.58888840675354,3.5259249210357666,3.4724812507629395,3.094701051712036,3.2015883922576904,3.5793685913085938,3.645019292831421,3.4724812507629395,3.094701051712036,3.645019292831421,3.2015883922576904,3.645019292831421,3.1830427646636963,null,3.1452443599700928,2.986966848373413,3.0425477027893066,2.986966848373413,2.8286890983581543,2.4952032566070557,2.811758518218994,3.1452443599700928,3.0693845748901367,2.8286890983581543,2.4952032566070557,3.0693845748901367,2.811758518218994,3.0693845748901367,2.695643424987793,null,1.9355705976486206,1.6958305835723877,1.7369568347930908,1.6958305835723877,1.4560904502868652,1.2093324661254883,1.6888126134872437,1.9355705976486206,1.720271348953247,1.4560904502868652,1.2093324661254883,1.720271348953247,1.6888126134872437,1.720271348953247,1.4985415935516357,null,0.4381892681121826,0.1515699326992035,0.17253154516220093,0.1515699326992035,-0.13504941761493683,-0.26081907749176025,0.312419593334198,0.4381892681121826,0.14592663943767548,-0.13504941761493683,-0.26081907749176025,0.14592663943767548,0.312419593334198,0.14592663943767548,0.060064300894737244,null,-0.9004967212677002,-1.196708083152771,-1.202666163444519,-1.196708083152771,-1.4929194450378418,-1.4571706056594849,-0.8647478818893433,-0.9004967212677002,-1.261073350906372,-1.4929194450378418,-1.4571706056594849,-1.261073350906372,-0.8647478818893433,-1.261073350906372,-1.1377137899398804],\"y\":[-2.1147725582122803,-2.2373974323272705,-2.3058290481567383,-2.2373974323272705,-2.3600223064422607,-1.949432134628296,-1.704182505607605,-2.1147725582122803,-2.0199689865112305,-2.3600223064422607,-1.949432134628296,-2.0199689865112305,-1.704182505607605,-2.0199689865112305,-2.0381691455841064,null,-2.476879596710205,-2.555481433868408,-2.627842426300049,-2.555481433868408,-2.6340832710266113,-2.199918270111084,-2.0427145957946777,-2.476879596710205,-2.351705551147461,-2.6340832710266113,-2.199918270111084,-2.351705551147461,-2.0427145957946777,-2.351705551147461,-2.3317456245422363,null,-2.456408977508545,-2.4563562870025635,-2.5313563346862793,-2.4563562870025635,-2.456303834915161,-2.0063042640686035,-2.0064094066619873,-2.456408977508545,-2.2305102348327637,-2.456303834915161,-2.0063042640686035,-2.2305102348327637,-2.0064094066619873,-2.2305102348327637,-2.2317798137664795,null,-2.363065242767334,-2.2654526233673096,-2.336369752883911,-2.2654526233673096,-2.167840003967285,-1.7423375844955444,-1.9375628232955933,-2.363065242767334,-2.0567359924316406,-2.167840003967285,-1.7423375844955444,-2.0567359924316406,-1.9375628232955933,-2.0567359924316406,-2.0506842136383057,null,-1.7891614437103271,-1.6139476299285889,-1.6745295524597168,-1.6139476299285889,-1.4387338161468506,-1.075242519378662,-1.4256702661514282,-1.7891614437103271,-1.3841391801834106,-1.4387338161468506,-1.075242519378662,-1.3841391801834106,-1.4256702661514282,-1.3841391801834106,-1.4562333822250366,null,-0.8221748471260071,-0.5821004509925842,-0.6233479976654053,-0.5821004509925842,-0.342026025056839,-0.09454077482223511,-0.5746896266937256,-0.8221748471260071,-0.31493502855300903,-0.342026025056839,-0.09454077482223511,-0.31493502855300903,-0.5746896266937256,-0.31493502855300903,-0.5300692319869995,null,0.22481918334960938,0.4912031888961792,0.4726439416408539,0.4912031888961792,0.757587194442749,0.8689427375793457,0.33617472648620605,0.22481918334960938,0.7795045971870422,0.757587194442749,0.8689427375793457,0.7795045971870422,0.33617472648620605,0.7795045971870422,0.4305691421031952,null,1.4142786264419556,1.6566451787948608,1.6605074405670166,1.6566451787948608,1.8990118503570557,1.8758379220962524,1.3911046981811523,1.4142786264419556,1.9973068237304688,1.8990118503570557,1.8758379220962524,1.9973068237304688,1.3911046981811523,1.9973068237304688,1.4689340591430664,null,2.2715721130371094,2.4781155586242676,2.501187562942505,2.4781155586242676,2.684659242630005,2.54622745513916,2.1331403255462646,2.2715721130371094,2.802969455718994,2.684659242630005,2.54622745513916,2.802969455718994,2.1331403255462646,2.802969455718994,2.211864948272705,null,3.253401041030884,3.3540117740631104,3.391770839691162,3.3540117740631104,3.454622507095337,3.2280685901641846,3.0268471240997314,3.253401041030884,3.718502998352051,3.454622507095337,3.2280685901641846,3.718502998352051,3.0268471240997314,3.718502998352051,3.0018506050109863,null,3.387240409851074,3.3894450664520264,3.434041976928711,3.3894450664520264,3.3916499614715576,3.124068260192871,3.1196587085723877,3.387240409851074,3.7380356788635254,3.3916499614715576,3.124068260192871,3.7380356788635254,3.1196587085723877,3.7380356788635254,3.0144636631011963,null,3.4617347717285156,3.3514256477355957,3.389392852783203,3.3514256477355957,3.2411162853240967,3.013312339782715,3.233931064605713,3.4617347717285156,3.705573081970215,3.2411162853240967,3.013312339782715,3.705573081970215,3.233931064605713,3.705573081970215,3.0034987926483154,null,2.7450449466705322,2.5527923107147217,2.5822339057922363,2.5527923107147217,2.360539436340332,2.183889389038086,2.568394660949707,2.7450449466705322,2.860294818878174,2.360539436340332,2.183889389038086,2.860294818878174,2.568394660949707,2.860294818878174,2.2665534019470215,null,1.9935446977615356,1.7460864782333374,1.7568225860595703,1.7460864782333374,1.4986282587051392,1.4342118501663208,1.9291282892227173,1.9935446977615356,2.0420260429382324,1.4986282587051392,1.4342118501663208,2.0420260429382324,1.9291282892227173,2.0420260429382324,1.549804449081421,null,1.0157510042190552,0.7418392896652222,0.7385529279708862,0.7418392896652222,0.4679275155067444,0.4876452088356018,1.0354686975479126,1.0157510042190552,0.9950050711631775,0.4679275155067444,0.4876452088356018,0.9950050711631775,1.0354686975479126,0.9950050711631775,0.6300446391105652,null,-0.3878043591976166,-0.6637009382247925,-0.6882703304290771,-0.6637009382247925,-0.939597487449646,-0.7921810150146484,-0.24038788676261902,-0.3878043591976166,-0.46002987027168274,-0.939597487449646,-0.7921810150146484,-0.46002987027168274,-0.24038788676261902,-0.46002987027168274,-0.654974102973938,null,-1.5410815477371216,-1.7810288667678833,-1.825882911682129,-1.7810288667678833,-2.0209760665893555,-1.7518519163131714,-1.2719571590423584,-1.5410815477371216,-1.6158002614974976,-2.0209760665893555,-1.7518519163131714,-1.6158002614974976,-1.2719571590423584,-1.6158002614974976,-1.6617999076843262,null,-2.427726984024048,-2.600794553756714,-2.661902904510498,-2.600794553756714,-2.77386212348938,-2.407212972640991,-2.061077833175659,-2.427726984024048,-2.4521260261535645,-2.77386212348938,-2.407212972640991,-2.4521260261535645,-2.061077833175659,-2.4521260261535645,-2.400141954421997,null,-3.046182632446289,-3.133232831954956,-3.204369068145752,-3.133232831954956,-3.220283269882202,-2.7934651374816895,-2.6193647384643555,-3.046182632446289,-2.996145248413086,-3.220283269882202,-2.7934651374816895,-2.996145248413086,-2.6193647384643555,-2.996145248413086,-2.8816633224487305,null,-3.059537410736084,-3.030803918838501,-3.1049411296844482,-3.030803918838501,-3.002070188522339,-2.5572457313537598,-2.614712953567505,-3.059537410736084,-2.878610134124756,-3.002070188522339,-2.5572457313537598,-2.878610134124756,-2.614712953567505,-2.878610134124756,-2.773282289505005],\"z\":[-0.39195311069488525,-0.46162688732147217,-0.45543473958969116,-0.46162688732147217,-0.5313007235527039,-0.5684539079666138,-0.42910629510879517,-0.39195311069488525,-1.0616915225982666,-0.5313007235527039,-0.5684539079666138,-1.0616915225982666,-0.42910629510879517,-1.0616915225982666,-0.18945950269699097,null,-0.6593183279037476,-0.6955945491790771,-0.6914230585098267,-0.6955945491790771,-0.731870710849762,-0.7568994760513306,-0.6843470931053162,-0.6593183279037476,-1.3027706146240234,-0.731870710849762,-0.7568994760513306,-1.3027706146240234,-0.6843470931053162,-1.3027706146240234,-0.4107780456542969,null,-0.7339561581611633,-0.7338778972625732,-0.7339836955070496,-0.7338778972625732,-0.7337995767593384,-0.7331648468971252,-0.7333214282989502,-0.7339561581611633,-1.3335598707199097,-0.7337995767593384,-0.7331648468971252,-1.3335598707199097,-0.7333214282989502,-1.3335598707199097,-0.4335607886314392,null,-0.6271533966064453,-0.5720704197883606,-0.566808819770813,-0.5720704197883606,-0.5169873833656311,-0.548556923866272,-0.6587229371070862,-0.6271533966064453,-1.1761506795883179,-0.5169873833656311,-0.548556923866272,-1.1761506795883179,-0.6587229371070862,-1.1761506795883179,-0.29370737075805664,null,-0.21497750282287598,-0.13407021760940552,-0.12656867504119873,-0.13407021760940552,-0.05316293239593506,-0.09817230701446533,-0.25998687744140625,-0.21497750282287598,-0.7312178611755371,-0.05316293239593506,-0.09817230701446533,-0.7312178611755371,-0.25998687744140625,-0.7312178611755371,0.13074654340744019,null,0.1868361234664917,0.312907338142395,0.33015406131744385,0.312907338142395,0.43897855281829834,0.3354983329772949,0.08335590362548828,0.1868361234664917,-0.26550865173339844,0.43897855281829834,0.3354983329772949,-0.26550865173339844,0.08335590362548828,-0.26550865173339844,0.5245051980018616,null,0.6623302698135376,0.798757016658783,0.8247110247612,0.798757016658783,0.9351837635040283,0.7794596552848816,0.5066061019897461,0.6623302698135376,0.22851312160491943,0.9351837635040283,0.7794596552848816,0.22851312160491943,0.5066061019897461,0.22851312160491943,0.9670858383178711,null,1.3414682149887085,1.4819769859313965,1.5231173038482666,1.4819769859313965,1.622485637664795,1.3756439685821533,1.0946264266967773,1.3414682149887085,0.9429749250411987,1.622485637664795,1.3756439685821533,0.9429749250411987,1.0946264266967773,0.9429749250411987,1.5663466453552246,null,1.803603172302246,1.911057472229004,1.959298849105835,1.911057472229004,2.0185117721557617,1.7290632724761963,1.5141546726226807,1.803603172302246,1.3602895736694336,2.0185117721557617,1.7290632724761963,1.3602895736694336,1.5141546726226807,1.3602895736694336,1.9693549871444702,null,2.2070858478546143,2.2885587215423584,2.3453850746154785,2.2885587215423584,2.3700315952301025,2.029073476791382,1.8661277294158936,2.2070858478546143,1.7620211839675903,2.3700315952301025,2.029073476791382,1.7620211839675903,1.8661277294158936,1.7620211839675903,2.2961089611053467,null,2.4245262145996094,2.46346378326416,2.5232105255126953,2.46346378326416,2.502401351928711,2.143921375274658,2.0660462379455566,2.4245262145996094,1.9299964904785156,2.502401351928711,2.143921375274658,1.9299964904785156,2.0660462379455566,1.9299964904785156,2.4613373279571533,null,2.5949807167053223,2.582249402999878,2.6444122791290283,2.582249402999878,2.5695180892944336,2.196540355682373,2.2220029830932617,2.5949807167053223,2.061035633087158,2.5695180892944336,2.196540355682373,2.061035633087158,2.2220029830932617,2.061035633087158,2.5631229877471924,null,2.230520009994507,2.1816534996032715,2.2394232749938965,2.1816534996032715,2.132786750793457,1.786167025566101,1.8839001655578613,2.230520009994507,1.6384021043777466,2.132786750793457,1.786167025566101,1.6384021043777466,1.8839001655578613,1.6384021043777466,2.19331431388855,null,1.7487101554870605,1.6520718336105347,1.7027714252471924,1.6520718336105347,1.5554335117340088,1.2512357234954834,1.4445123672485352,1.7487101554870605,1.1023107767105103,1.5554335117340088,1.2512357234954834,1.1023107767105103,1.4445123672485352,1.1023107767105103,1.6988039016723633,null,1.5028241872787476,1.395507574081421,1.437781572341919,1.395507574081421,1.2881908416748047,1.0345464944839478,1.2491798400878906,1.5028241872787476,0.8219656944274902,1.2881908416748047,1.0345464944839478,0.8219656944274902,1.2491798400878906,0.8219656944274902,1.4920451641082764,null,0.589985728263855,0.48498642444610596,0.5174973011016846,0.48498642444610596,0.37998712062835693,0.1849217712879181,0.39492034912109375,0.589985728263855,-0.11079847812652588,0.37998712062835693,0.1849217712879181,-0.11079847812652588,0.39492034912109375,-0.11079847812652588,0.6365798115730286,null,0.1353512406349182,0.04948228597640991,0.07237046957015991,0.04948228597640991,-0.03638660907745361,-0.1737157702445984,-0.0019779205322265625,0.1353512406349182,-0.5641395449638367,-0.03638660907745361,-0.1737157702445984,-0.5641395449638367,-0.0019779205322265625,-0.5641395449638367,0.253296434879303,null,-0.4742797613143921,-0.5249979496002197,-0.5108765959739685,-0.5249979496002197,-0.5757161378860474,-0.6604442596435547,-0.5590078830718994,-0.4742797613143921,-1.1478345394134521,-0.5757161378860474,-0.6604442596435547,-1.1478345394134521,-0.5590078830718994,-1.1478345394134521,-0.2771257758140564,null,-0.8033878803253174,-0.819868803024292,-0.8086779117584229,-0.819868803024292,-0.8363496661186218,-0.9034948348999023,-0.8705330491065979,-0.8033878803253174,-1.4458081722259521,-0.8363496661186218,-0.9034948348999023,-1.4458081722259521,-0.8705330491065979,-1.4458081722259521,-0.5572579503059387,null,-0.9977197051048279,-0.9598618745803833,-0.9502108097076416,-0.9598618745803833,-0.9220041036605835,-0.9799105525016785,-1.0556261539459229,-0.9977197051048279,-1.5789897441864014,-0.9220041036605835,-0.9799105525016785,-1.5789897441864014,-1.0556261539459229,-1.5789897441864014,-0.6937277913093567],\"type\":\"scatter3d\",\"scene\":\"scene\"}],                        {\"template\":{\"data\":{\"histogram2dcontour\":[{\"type\":\"histogram2dcontour\",\"colorbar\":{\"outlinewidth\":0,\"ticks\":\"\"},\"colorscale\":[[0.0,\"#0d0887\"],[0.1111111111111111,\"#46039f\"],[0.2222222222222222,\"#7201a8\"],[0.3333333333333333,\"#9c179e\"],[0.4444444444444444,\"#bd3786\"],[0.5555555555555556,\"#d8576b\"],[0.6666666666666666,\"#ed7953\"],[0.7777777777777778,\"#fb9f3a\"],[0.8888888888888888,\"#fdca26\"],[1.0,\"#f0f921\"]]}],\"choropleth\":[{\"type\":\"choropleth\",\"colorbar\":{\"outlinewidth\":0,\"ticks\":\"\"}}],\"histogram2d\":[{\"type\":\"histogram2d\",\"colorbar\":{\"outlinewidth\":0,\"ticks\":\"\"},\"colorscale\":[[0.0,\"#0d0887\"],[0.1111111111111111,\"#46039f\"],[0.2222222222222222,\"#7201a8\"],[0.3333333333333333,\"#9c179e\"],[0.4444444444444444,\"#bd3786\"],[0.5555555555555556,\"#d8576b\"],[0.6666666666666666,\"#ed7953\"],[0.7777777777777778,\"#fb9f3a\"],[0.8888888888888888,\"#fdca26\"],[1.0,\"#f0f921\"]]}],\"heatmap\":[{\"type\":\"heatmap\",\"colorbar\":{\"outlinewidth\":0,\"ticks\":\"\"},\"colorscale\":[[0.0,\"#0d0887\"],[0.1111111111111111,\"#46039f\"],[0.2222222222222222,\"#7201a8\"],[0.3333333333333333,\"#9c179e\"],[0.4444444444444444,\"#bd3786\"],[0.5555555555555556,\"#d8576b\"],[0.6666666666666666,\"#ed7953\"],[0.7777777777777778,\"#fb9f3a\"],[0.8888888888888888,\"#fdca26\"],[1.0,\"#f0f921\"]]}],\"heatmapgl\":[{\"type\":\"heatmapgl\",\"colorbar\":{\"outlinewidth\":0,\"ticks\":\"\"},\"colorscale\":[[0.0,\"#0d0887\"],[0.1111111111111111,\"#46039f\"],[0.2222222222222222,\"#7201a8\"],[0.3333333333333333,\"#9c179e\"],[0.4444444444444444,\"#bd3786\"],[0.5555555555555556,\"#d8576b\"],[0.6666666666666666,\"#ed7953\"],[0.7777777777777778,\"#fb9f3a\"],[0.8888888888888888,\"#fdca26\"],[1.0,\"#f0f921\"]]}],\"contourcarpet\":[{\"type\":\"contourcarpet\",\"colorbar\":{\"outlinewidth\":0,\"ticks\":\"\"}}],\"contour\":[{\"type\":\"contour\",\"colorbar\":{\"outlinewidth\":0,\"ticks\":\"\"},\"colorscale\":[[0.0,\"#0d0887\"],[0.1111111111111111,\"#46039f\"],[0.2222222222222222,\"#7201a8\"],[0.3333333333333333,\"#9c179e\"],[0.4444444444444444,\"#bd3786\"],[0.5555555555555556,\"#d8576b\"],[0.6666666666666666,\"#ed7953\"],[0.7777777777777778,\"#fb9f3a\"],[0.8888888888888888,\"#fdca26\"],[1.0,\"#f0f921\"]]}],\"surface\":[{\"type\":\"surface\",\"colorbar\":{\"outlinewidth\":0,\"ticks\":\"\"},\"colorscale\":[[0.0,\"#0d0887\"],[0.1111111111111111,\"#46039f\"],[0.2222222222222222,\"#7201a8\"],[0.3333333333333333,\"#9c179e\"],[0.4444444444444444,\"#bd3786\"],[0.5555555555555556,\"#d8576b\"],[0.6666666666666666,\"#ed7953\"],[0.7777777777777778,\"#fb9f3a\"],[0.8888888888888888,\"#fdca26\"],[1.0,\"#f0f921\"]]}],\"mesh3d\":[{\"type\":\"mesh3d\",\"colorbar\":{\"outlinewidth\":0,\"ticks\":\"\"}}],\"scatter\":[{\"fillpattern\":{\"fillmode\":\"overlay\",\"size\":10,\"solidity\":0.2},\"type\":\"scatter\"}],\"parcoords\":[{\"type\":\"parcoords\",\"line\":{\"colorbar\":{\"outlinewidth\":0,\"ticks\":\"\"}}}],\"scatterpolargl\":[{\"type\":\"scatterpolargl\",\"marker\":{\"colorbar\":{\"outlinewidth\":0,\"ticks\":\"\"}}}],\"bar\":[{\"error_x\":{\"color\":\"#2a3f5f\"},\"error_y\":{\"color\":\"#2a3f5f\"},\"marker\":{\"line\":{\"color\":\"#E5ECF6\",\"width\":0.5},\"pattern\":{\"fillmode\":\"overlay\",\"size\":10,\"solidity\":0.2}},\"type\":\"bar\"}],\"scattergeo\":[{\"type\":\"scattergeo\",\"marker\":{\"colorbar\":{\"outlinewidth\":0,\"ticks\":\"\"}}}],\"scatterpolar\":[{\"type\":\"scatterpolar\",\"marker\":{\"colorbar\":{\"outlinewidth\":0,\"ticks\":\"\"}}}],\"histogram\":[{\"marker\":{\"pattern\":{\"fillmode\":\"overlay\",\"size\":10,\"solidity\":0.2}},\"type\":\"histogram\"}],\"scattergl\":[{\"type\":\"scattergl\",\"marker\":{\"colorbar\":{\"outlinewidth\":0,\"ticks\":\"\"}}}],\"scatter3d\":[{\"type\":\"scatter3d\",\"line\":{\"colorbar\":{\"outlinewidth\":0,\"ticks\":\"\"}},\"marker\":{\"colorbar\":{\"outlinewidth\":0,\"ticks\":\"\"}}}],\"scattermapbox\":[{\"type\":\"scattermapbox\",\"marker\":{\"colorbar\":{\"outlinewidth\":0,\"ticks\":\"\"}}}],\"scatterternary\":[{\"type\":\"scatterternary\",\"marker\":{\"colorbar\":{\"outlinewidth\":0,\"ticks\":\"\"}}}],\"scattercarpet\":[{\"type\":\"scattercarpet\",\"marker\":{\"colorbar\":{\"outlinewidth\":0,\"ticks\":\"\"}}}],\"carpet\":[{\"aaxis\":{\"endlinecolor\":\"#2a3f5f\",\"gridcolor\":\"white\",\"linecolor\":\"white\",\"minorgridcolor\":\"white\",\"startlinecolor\":\"#2a3f5f\"},\"baxis\":{\"endlinecolor\":\"#2a3f5f\",\"gridcolor\":\"white\",\"linecolor\":\"white\",\"minorgridcolor\":\"white\",\"startlinecolor\":\"#2a3f5f\"},\"type\":\"carpet\"}],\"table\":[{\"cells\":{\"fill\":{\"color\":\"#EBF0F8\"},\"line\":{\"color\":\"white\"}},\"header\":{\"fill\":{\"color\":\"#C8D4E3\"},\"line\":{\"color\":\"white\"}},\"type\":\"table\"}],\"barpolar\":[{\"marker\":{\"line\":{\"color\":\"#E5ECF6\",\"width\":0.5},\"pattern\":{\"fillmode\":\"overlay\",\"size\":10,\"solidity\":0.2}},\"type\":\"barpolar\"}],\"pie\":[{\"automargin\":true,\"type\":\"pie\"}]},\"layout\":{\"autotypenumbers\":\"strict\",\"colorway\":[\"#636efa\",\"#EF553B\",\"#00cc96\",\"#ab63fa\",\"#FFA15A\",\"#19d3f3\",\"#FF6692\",\"#B6E880\",\"#FF97FF\",\"#FECB52\"],\"font\":{\"color\":\"#2a3f5f\"},\"hovermode\":\"closest\",\"hoverlabel\":{\"align\":\"left\"},\"paper_bgcolor\":\"white\",\"plot_bgcolor\":\"#E5ECF6\",\"polar\":{\"bgcolor\":\"#E5ECF6\",\"angularaxis\":{\"gridcolor\":\"white\",\"linecolor\":\"white\",\"ticks\":\"\"},\"radialaxis\":{\"gridcolor\":\"white\",\"linecolor\":\"white\",\"ticks\":\"\"}},\"ternary\":{\"bgcolor\":\"#E5ECF6\",\"aaxis\":{\"gridcolor\":\"white\",\"linecolor\":\"white\",\"ticks\":\"\"},\"baxis\":{\"gridcolor\":\"white\",\"linecolor\":\"white\",\"ticks\":\"\"},\"caxis\":{\"gridcolor\":\"white\",\"linecolor\":\"white\",\"ticks\":\"\"}},\"coloraxis\":{\"colorbar\":{\"outlinewidth\":0,\"ticks\":\"\"}},\"colorscale\":{\"sequential\":[[0.0,\"#0d0887\"],[0.1111111111111111,\"#46039f\"],[0.2222222222222222,\"#7201a8\"],[0.3333333333333333,\"#9c179e\"],[0.4444444444444444,\"#bd3786\"],[0.5555555555555556,\"#d8576b\"],[0.6666666666666666,\"#ed7953\"],[0.7777777777777778,\"#fb9f3a\"],[0.8888888888888888,\"#fdca26\"],[1.0,\"#f0f921\"]],\"sequentialminus\":[[0.0,\"#0d0887\"],[0.1111111111111111,\"#46039f\"],[0.2222222222222222,\"#7201a8\"],[0.3333333333333333,\"#9c179e\"],[0.4444444444444444,\"#bd3786\"],[0.5555555555555556,\"#d8576b\"],[0.6666666666666666,\"#ed7953\"],[0.7777777777777778,\"#fb9f3a\"],[0.8888888888888888,\"#fdca26\"],[1.0,\"#f0f921\"]],\"diverging\":[[0,\"#8e0152\"],[0.1,\"#c51b7d\"],[0.2,\"#de77ae\"],[0.3,\"#f1b6da\"],[0.4,\"#fde0ef\"],[0.5,\"#f7f7f7\"],[0.6,\"#e6f5d0\"],[0.7,\"#b8e186\"],[0.8,\"#7fbc41\"],[0.9,\"#4d9221\"],[1,\"#276419\"]]},\"xaxis\":{\"gridcolor\":\"white\",\"linecolor\":\"white\",\"ticks\":\"\",\"title\":{\"standoff\":15},\"zerolinecolor\":\"white\",\"automargin\":true,\"zerolinewidth\":2},\"yaxis\":{\"gridcolor\":\"white\",\"linecolor\":\"white\",\"ticks\":\"\",\"title\":{\"standoff\":15},\"zerolinecolor\":\"white\",\"automargin\":true,\"zerolinewidth\":2},\"scene\":{\"xaxis\":{\"backgroundcolor\":\"#E5ECF6\",\"gridcolor\":\"white\",\"linecolor\":\"white\",\"showbackground\":true,\"ticks\":\"\",\"zerolinecolor\":\"white\",\"gridwidth\":2},\"yaxis\":{\"backgroundcolor\":\"#E5ECF6\",\"gridcolor\":\"white\",\"linecolor\":\"white\",\"showbackground\":true,\"ticks\":\"\",\"zerolinecolor\":\"white\",\"gridwidth\":2},\"zaxis\":{\"backgroundcolor\":\"#E5ECF6\",\"gridcolor\":\"white\",\"linecolor\":\"white\",\"showbackground\":true,\"ticks\":\"\",\"zerolinecolor\":\"white\",\"gridwidth\":2}},\"shapedefaults\":{\"line\":{\"color\":\"#2a3f5f\"}},\"annotationdefaults\":{\"arrowcolor\":\"#2a3f5f\",\"arrowhead\":0,\"arrowwidth\":1},\"geo\":{\"bgcolor\":\"white\",\"landcolor\":\"#E5ECF6\",\"subunitcolor\":\"white\",\"showland\":true,\"showlakes\":true,\"lakecolor\":\"white\"},\"title\":{\"x\":0.05},\"mapbox\":{\"style\":\"light\"}}},\"scene\":{\"domain\":{\"x\":[0.0,1.0],\"y\":[0.0,1.0]},\"xaxis\":{\"range\":[-7.004208087921143,7.255969524383545],\"showgrid\":false,\"zeroline\":false,\"showline\":false,\"ticks\":\"\",\"showticklabels\":false,\"backgroundcolor\":\"#fff\",\"showaxeslabels\":false},\"yaxis\":{\"range\":[-7.200329303741455,7.059848308563232],\"showgrid\":false,\"zeroline\":false,\"showline\":false,\"ticks\":\"\",\"showticklabels\":false,\"backgroundcolor\":\"#fff\",\"showaxeslabels\":false},\"zaxis\":{\"range\":[-6.644233226776123,7.6159443855285645],\"showgrid\":false,\"zeroline\":false,\"showline\":false,\"ticks\":\"\",\"showticklabels\":false,\"backgroundcolor\":\"#fff\",\"showaxeslabels\":false},\"camera\":{\"up\":{\"x\":0.0,\"y\":1.0,\"z\":0.0}},\"aspectmode\":\"cube\"},\"annotations\":[{\"font\":{\"size\":16},\"showarrow\":false,\"text\":\"main\",\"x\":0.5,\"xanchor\":\"center\",\"xref\":\"paper\",\"y\":1.0,\"yanchor\":\"bottom\",\"yref\":\"paper\"}]},                        {\"responsive\": true}                    ).then(function(){\n",
       "                            \n",
       "var gd = document.getElementById('a48952b2-1cac-4fd1-8ea7-172952eae236');\n",
       "var x = new MutationObserver(function (mutations, observer) {{\n",
       "        var display = window.getComputedStyle(gd).display;\n",
       "        if (!display || display === 'none') {{\n",
       "            console.log([gd, 'removed!']);\n",
       "            Plotly.purge(gd);\n",
       "            observer.disconnect();\n",
       "        }}\n",
       "}});\n",
       "\n",
       "// Listen for the removal of the full notebook cells\n",
       "var notebookContainer = gd.closest('#notebook-container');\n",
       "if (notebookContainer) {{\n",
       "    x.observe(notebookContainer, {childList: true});\n",
       "}}\n",
       "\n",
       "// Listen for the clearing of the current output cell\n",
       "var outputEl = gd.closest('.output');\n",
       "if (outputEl) {{\n",
       "    x.observe(outputEl, {childList: true});\n",
       "}}\n",
       "\n",
       "                        })                };                });            </script>        </div>"
      ]
     },
     "metadata": {},
     "output_type": "display_data"
    }
   ],
   "source": [
    "from pytorch3d.renderer.camera_utils import join_cameras_as_batch\n",
    "\n",
    "def _get_pytorch3d_camera_from_uco3d_camera(\n",
    "    camera,\n",
    ") -> PerspectiveCameras:\n",
    "    assert camera is not None\n",
    "    return PerspectiveCameras(\n",
    "        focal_length=camera.focal_length,\n",
    "        principal_point=camera.principal_point,\n",
    "        R=camera.R,\n",
    "        T=camera.T,\n",
    "    )\n",
    "\n",
    "cameras = join_cameras_as_batch([_get_pytorch3d_camera_from_uco3d_camera(dataset.meta[seq, frame_id].camera) for _, frame_id, _ in seq_frame_ids[::interval]])\n",
    "plot_scene({\"main\": {\"cameras\": cameras}}, camera_scale=0.3)"
   ]
  }
 ],
 "metadata": {
  "kernelspec": {
   "display_name": "pixar_replay",
   "language": "python",
   "name": "python3"
  },
  "language_info": {
   "codemirror_mode": {
    "name": "ipython",
    "version": 3
   },
   "file_extension": ".py",
   "mimetype": "text/x-python",
   "name": "python",
   "nbconvert_exporter": "python",
   "pygments_lexer": "ipython3",
   "version": "3.10.12"
  }
 },
 "nbformat": 4,
 "nbformat_minor": 2
}
